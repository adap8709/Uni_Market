{
 "cells": [
  {
   "cell_type": "code",
   "execution_count": 16,
   "id": "347c4102",
   "metadata": {},
   "outputs": [],
   "source": [
    "import pymongo\n",
    "from pymongo import MongoClient"
   ]
  },
  {
   "cell_type": "code",
   "execution_count": 17,
   "id": "9adafc51",
   "metadata": {},
   "outputs": [
    {
     "name": "stdout",
     "output_type": "stream",
     "text": [
      "['UniMarketDB', 'admin', 'config', 'local']\n"
     ]
    }
   ],
   "source": [
    "client=MongoClient(host='localhost',port=27017)\n",
    "print(client.list_database_names())"
   ]
  },
  {
   "cell_type": "code",
   "execution_count": 19,
   "id": "903a992c",
   "metadata": {},
   "outputs": [],
   "source": [
    "db=client['UniMarketDB']"
   ]
  },
  {
   "cell_type": "code",
   "execution_count": 20,
   "id": "75b435d5",
   "metadata": {},
   "outputs": [],
   "source": [
    "collection=db['data']"
   ]
  },
  {
   "cell_type": "code",
   "execution_count": 22,
   "id": "e1401c18",
   "metadata": {},
   "outputs": [
    {
     "data": {
      "text/plain": [
       "{'item_id': '0125475',\n",
       " 'title': '노트북',\n",
       " 'picture': ' ',\n",
       " 'region': ' ',\n",
       " 'price': ' ',\n",
       " 'link': ' '}"
      ]
     },
     "execution_count": 22,
     "metadata": {},
     "output_type": "execute_result"
    }
   ],
   "source": [
    "post={\"item_id\":\"0125475\",\n",
    "      \"title\":\"노트북\",\n",
    "      \"picture\":\" \",\n",
    "      \"region\":\" \",\n",
    "      \"price\":\" \",\n",
    "      \"link\":\" \"}\n",
    "post"
   ]
  },
  {
   "cell_type": "code",
   "execution_count": 26,
   "id": "b68773b3",
   "metadata": {},
   "outputs": [
    {
     "name": "stdout",
     "output_type": "stream",
     "text": [
      "633aa6b746a6850eca1e0231\n"
     ]
    }
   ],
   "source": [
    "posts=db.data\n",
    "post_id=posts.insert_one(post).inserted_id\n",
    "print(post_id)"
   ]
  },
  {
   "cell_type": "code",
   "execution_count": 27,
   "id": "188f8d9d",
   "metadata": {},
   "outputs": [
    {
     "data": {
      "text/plain": [
       "['data', 'posts']"
      ]
     },
     "execution_count": 27,
     "metadata": {},
     "output_type": "execute_result"
    }
   ],
   "source": [
    "db.list_collection_names()"
   ]
  },
  {
   "cell_type": "code",
   "execution_count": 28,
   "id": "da310497",
   "metadata": {},
   "outputs": [
    {
     "name": "stdout",
     "output_type": "stream",
     "text": [
      "{'_id': ObjectId('633aa6b746a6850eca1e0231'),\n",
      " 'item_id': '0125475',\n",
      " 'link': ' ',\n",
      " 'picture': ' ',\n",
      " 'price': ' ',\n",
      " 'region': ' ',\n",
      " 'title': '노트북'}\n"
     ]
    }
   ],
   "source": [
    "import pprint\n",
    "pprint.pprint(posts.find_one())"
   ]
  },
  {
   "cell_type": "code",
   "execution_count": null,
   "id": "c36d1218",
   "metadata": {},
   "outputs": [],
   "source": []
  }
 ],
 "metadata": {
  "kernelspec": {
   "display_name": "Python 3",
   "language": "python",
   "name": "python3"
  },
  "language_info": {
   "codemirror_mode": {
    "name": "ipython",
    "version": 3
   },
   "file_extension": ".py",
   "mimetype": "text/x-python",
   "name": "python",
   "nbconvert_exporter": "python",
   "pygments_lexer": "ipython3",
   "version": "3.8.8"
  }
 },
 "nbformat": 4,
 "nbformat_minor": 5
}
